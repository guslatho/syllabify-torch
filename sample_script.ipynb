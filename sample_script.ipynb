{
 "cells": [
  {
   "cell_type": "code",
   "execution_count": 1,
   "id": "1d95b79b-8145-4eb5-a746-e76ab948ee05",
   "metadata": {},
   "outputs": [],
   "source": [
    "# Sample script for loading syllabification algorithm\n",
    "# ONE LIBRARY REQUIRED FOR RUNNING THIS CODE! (aside from torch)\n",
    "# !pip install bi_lstm_crf\n",
    "from models.brandt import brandt_syllabificate\n",
    "from models.neural import torch_syllabificate"
   ]
  },
  {
   "cell_type": "code",
   "execution_count": 2,
   "id": "c748ab49-9ef0-4d3e-96bc-5d872629c669",
   "metadata": {},
   "outputs": [],
   "source": [
    "word = 'kermis'\n",
    "word2 = 'chocolade'\n",
    "sentence = 'chocoladetaart eten tijdens een verjaardag'"
   ]
  },
  {
   "cell_type": "code",
   "execution_count": 3,
   "id": "ae49df13-b3ed-4993-9550-a6008d0bd47c",
   "metadata": {},
   "outputs": [
    {
     "name": "stdout",
     "output_type": "stream",
     "text": [
      "ker-mis\n",
      "cho-co-la-de\n"
     ]
    }
   ],
   "source": [
    "# Brandt returns one word syllabificated\n",
    "print(brandt_syllabificate(word))\n",
    "print(brandt_syllabificate(word2))"
   ]
  },
  {
   "cell_type": "code",
   "execution_count": 5,
   "id": "f30bbd21-3c7e-4208-902b-e2d64bd91ee7",
   "metadata": {},
   "outputs": [
    {
     "name": "stdout",
     "output_type": "stream",
     "text": [
      "['ker-mis']\n",
      "['cho-co-la-de']\n",
      "['cho-co-la-de-taart', 'e-ten', 'tij-dens', 'een', 'ver-jaar-dag']\n"
     ]
    }
   ],
   "source": [
    "# Torch model performs optimally by inputting multiple words at the same time instead of seperately\n",
    "print(torch_syllabificate(word))\n",
    "print(torch_syllabificate(word2))\n",
    "print(torch_syllabificate(sentence))"
   ]
  },
  {
   "cell_type": "code",
   "execution_count": null,
   "id": "6b7a0ad1-dd05-41c9-ae9f-f0ad4db0dcbe",
   "metadata": {},
   "outputs": [],
   "source": []
  }
 ],
 "metadata": {
  "kernelspec": {
   "display_name": "Python 3 (ipykernel)",
   "language": "python",
   "name": "python3"
  },
  "language_info": {
   "codemirror_mode": {
    "name": "ipython",
    "version": 3
   },
   "file_extension": ".py",
   "mimetype": "text/x-python",
   "name": "python",
   "nbconvert_exporter": "python",
   "pygments_lexer": "ipython3",
   "version": "3.12.7"
  }
 },
 "nbformat": 4,
 "nbformat_minor": 5
}
